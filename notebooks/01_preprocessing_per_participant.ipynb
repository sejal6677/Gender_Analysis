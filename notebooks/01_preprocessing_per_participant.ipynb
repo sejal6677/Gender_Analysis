{
 "cells": [
  {
   "cell_type": "markdown",
   "metadata": {},
   "source": [
    "# Preprocessing Per-Participant Mean with Gender (Fixed with Missing/NaN Handling)\n",
    "\n",
    "This notebook loads multiple CSV files (PSY, EEG, GSR, EYE, TIVA), computes mean values for numeric columns grouped by `Participant_ID`, retains `Gender` from the PSY dataset, merges all datasets, and saves a single `participant_summary_dataset.csv`. It includes robust handling for missing and NaN values using median imputation to ensure data completeness for modeling in Problem ID - 8: Analyzing Gender Differences Using Explainable AI.\n",
    "\n",
    "## Key Features\n",
    "- **Missing Value Handling**: Imputes NaNs with column medians before aggregation and in the final merged dataset.\n",
    "- **NaN Validation**: Checks for and reports high NaN percentages per column/participant.\n",
    "- **Gender Retention**: Keeps `Gender` only from PSY.csv to avoid conflicts.\n",
    "- **Output**: `participant_summary_dataset.csv` with ~38 rows (participants) and aggregated features.\n",
    "\n",
    "## Input\n",
    "- **Directory**: `C:\\Users\\Anish\\anaconda3\\envs\\IITB\\IITB`\n",
    "- **Files**: `PSY.csv`, `EEG.csv`, `GSR.csv`, `EYE.csv`, `TIVA.csv` (trial-level data with `Participant_ID`).\n",
    "\n",
    "## Output\n",
    "- **Directory**: `processed` subfolder.\n",
    "- **Files**: `participant_summary_dataset.csv` (merged dataset), `nan_report.txt` (NaN summary)."
   ]
  },
  {
   "cell_type": "code",
   "execution_count": null,
   "metadata": {},
   "outputs": [],
   "source": [
    "import pandas as pd\n",
    "from pathlib import Path\n",
    "from functools import reduce\n",
    "import numpy as np"
   ]
  },
  {
   "cell_type": "markdown",
   "metadata": {},
   "source": [
    "## Paths and Configuration\n",
    "\n",
    "Set input and output directories. Adjust `data_dir` if your files are in a different location."
   ]
  },
  {
   "cell_type": "code",
   "execution_count": null,
   "metadata": {},
   "outputs": [],
   "source": [
    "# Paths (Updated for IITB environment)\n",
    "# Assuming your IITB folder is inside the current working directory or conda env directory\n",
    "data_dir = Path(r\"C:\\Users\\Anish\\anaconda3\\envs\\IITB\\IITB\")  # Change this if different\n",
    "output_dir = data_dir / \"processed\"\n",
    "output_dir.mkdir(parents=True, exist_ok=True)\n",
    "\n",
    "# Input files\n",
    "files = {\n",
    "    \"psy\": data_dir / \"PSY.csv\",\n",
    "    \"eeg\": data_dir / \"EEG.csv\",\n",
    "    \"gsr\": data_dir / \"GSR.csv\",\n",
    "    \"eye\": data_dir / \"EYE.csv\",\n",
    "    \"tiva\": data_dir / \"TIVA.csv\"\n",
    "}\n",
    "\n",
    "# Validate input files exist\n",
    "missing_files = [name for name, file in files.items() if not file.exists()]\n",
    "if missing_files:\n",
    "    raise FileNotFoundError(f\"Missing files: {missing_files}\")\n",
    "print(\"All input files found.\")"
   ]
  },
  {
   "cell_type": "markdown",
   "metadata": {},
   "source": [
    "## Helper Function: Summarize Mean with Gender and NaN Handling\n",
    "\n",
    "Computes mean for numeric columns grouped by `Participant_ID`, imputes NaNs with medians, and optionally retains `Gender`."
   ]
  },
  {
   "cell_type": "code",
   "execution_count": null,
   "metadata": {},
   "outputs": [],
   "source": [
    "def summarize_mean_with_gender(df, keep_gender=True):\n",
    "    \"\"\"\n",
    "    Compute mean for all numeric columns grouped by Participant_ID,\n",
    "    optionally keep Gender column (take first occurrence).\n",
    "    Handles NaN values with median imputation.\n",
    "    \"\"\"\n",
    "    participant_col = \"Participant_ID\"\n",
    "    \n",
    "    if participant_col not in df.columns:\n",
    "        raise ValueError(f\"Column '{participant_col}' not found in CSV. Columns: {df.columns.tolist()}\")\n",
    "    \n",
    "    # Identify numeric columns\n",
    "    numeric_cols = df.select_dtypes(include=\"number\").columns.tolist()\n",
    "    if participant_col in numeric_cols:\n",
    "        numeric_cols.remove(participant_col)\n",
    "    \n",
    "    if len(numeric_cols) == 0:\n",
    "        print(\"Warning: No numeric columns found for aggregation.\")\n",
    "        return df[[participant_col]].copy()\n",
    "    \n",
    "    # Impute NaNs with median for each numeric column\n",
    "    for col in numeric_cols:\n",
    "        if df[col].isna().sum() > 0:\n",
    "            median_val = df[col].median()\n",
    "            df[col] = df[col].fillna(median_val)\n",
    "            print(f\"Imputed NaNs in {col} with median: {median_val}\")\n",
    "    \n",
    "    # Group by participant and compute mean\n",
    "    grouped = df.groupby(participant_col)[numeric_cols].mean()\n",
    "    \n",
    "    # Add Gender if requested and present\n",
    "    if keep_gender and \"Gender\" in df.columns:\n",
    "        grouped[\"Gender\"] = df.groupby(participant_col)[\"Gender\"].first()\n",
    "    \n",
    "    return grouped.reset_index()"
   ]
  },
  {
   "cell_type": "markdown",
   "metadata": {},
   "source": [
    "## Process Each Dataset\n",
    "\n",
    "Loads each CSV, applies summarization (keeping `Gender` only from PSY), and handles NaNs."
   ]
  },
  {
   "cell_type": "code",
   "execution_count": null,
   "metadata": {},
   "outputs": [],
   "source": [
    "participant_summaries = {}\n",
    "first_dataset = True\n",
    "\n",
    "for name, file in files.items():\n",
    "    print(f\"Processing {name}...\")\n",
    "    df = pd.read_csv(file)\n",
    "    print(f\"  Loaded {len(df)} rows, {len(df.columns)} columns\")\n",
    "    \n",
    "    # Keep Gender only in the first dataset (PSY)\n",
    "    keep_gender = first_dataset\n",
    "    summary = summarize_mean_with_gender(df, keep_gender=keep_gender)\n",
    "    first_dataset = False\n",
    "    \n",
    "    # Drop Gender from other datasets to avoid merge conflicts\n",
    "    if not keep_gender and \"Gender\" in summary.columns:\n",
    "        summary = summary.drop(columns=[\"Gender\"])\n",
    "    \n",
    "    participant_summaries[name] = summary\n",
    "    print(f\"  Aggregated to {len(summary)} participants\")\n",
    "\n",
    "print(\"All datasets processed.\")"
   ]
  },
  {
   "cell_type": "markdown",
   "metadata": {},
   "source": [
    "## Merge All Summaries\n",
    "\n",
    "Merges datasets on `Participant_ID` using outer join and imputes any remaining NaNs in the final dataset."
   ]
  },
  {
   "cell_type": "code",
   "execution_count": null,
   "metadata": {},
   "outputs": [],
   "source": [
    "# Merge all summaries\n",
    "dfs = list(participant_summaries.values())\n",
    "final_summary = reduce(lambda left, right: pd.merge(left, right, on=\"Participant_ID\", how=\"outer\"), dfs)\n",
    "\n",
    "# Impute NaNs in final dataset with medians\n",
    "numeric_cols = final_summary.select_dtypes(include=\"number\").columns.tolist()\n",
    "if \"Participant_ID\" in numeric_cols:\n",
    "    numeric_cols.remove(\"Participant_ID\")\n",
    "\n",
    "nan_report = []\n",
    "for col in numeric_cols:\n",
    "    nan_count = final_summary[col].isna().sum()\n",
    "    if nan_count > 0:\n",
    "        median_val = final_summary[col].median()\n",
    "        final_summary[col] = final_summary[col].fillna(median_val)\n",
    "        nan_report.append(f\"{col}: {nan_count} NaNs imputed with median {median_val}\")\n",
    "\n",
    "# Report high NaN percentages (>50%)\n",
    "high_nan_cols = [col for col in numeric_cols if final_summary[col].isna().sum() / len(final_summary) > 0.5]\n",
    "if high_nan_cols:\n",
    "    print(f\"Warning: Columns with >50% NaNs: {high_nan_cols}\")\n",
    "\n",
    "# Save NaN report\n",
    "with open(output_dir / \"nan_report.txt\", 'w') as f:\n",
    "    f.write(\"NaN Imputation Report:\\n\")\n",
    "    f.write(\"\\n\".join(nan_report))\n",
    "\n",
    "print(f\"Merged dataset shape: {final_summary.shape}\")\n",
    "print(\"NaN handling complete.\")"
   ]
  },
  {
   "cell_type": "markdown",
   "metadata": {},
   "source": [
    "## Save Output\n",
    "\n",
    "Saves the final merged dataset and prints summary statistics."
   ]
  },
  {
   "cell_type": "code",
   "execution_count": null,
   "metadata": {},
   "outputs": [],
   "source": [
    "# Save output\n",
    "output_file = output_dir / \"participant_summary_dataset.csv\"\n",
    "final_summary.to_csv(output_file, index=False)\n",
    "\n",
    "# Print summary\n",
    "print(f\"Participant summary saved to {output_file}\")\n",
    "print(f\"Total participants: {len(final_summary)}\")\n",
    "print(f\"Total columns: {len(final_summary.columns)}\")\n",
    "if 'Gender' in final_summary.columns:\n",
    "    print(f\"Gender distribution:\\n{final_summary['Gender'].value_counts()}\")\n",
    "\n",
    "# Display first few rows\n",
    "print(\"\\nFirst 5 rows preview:\")\n",
    "print(final_summary.head())"
   ]
  }
 ],
 "metadata": {
  "kernelspec": {
   "display_name": "Python 3 (ipykernel)",
   "language": "python",
   "name": "python3"
  },
  "language_info": {
   "codemirror_mode": {
    "name": "ipython",
    "version": 3
   },
   "file_extension": ".py",
   "mimetype": "text/x-python",
   "name": "python",
   "nbconvert_exporter": "python",
   "pygments_lexer": "ipython3",
   "version": "3.9.23"
  }
 },
 "nbformat": 4,
 "nbformat_minor": 5
}